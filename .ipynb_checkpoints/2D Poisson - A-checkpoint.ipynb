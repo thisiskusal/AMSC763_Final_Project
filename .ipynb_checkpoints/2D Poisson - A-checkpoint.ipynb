{
 "cells": [
  {
   "cell_type": "markdown",
   "metadata": {},
   "source": [
    "# 2D Poisson - Perturbed A"
   ]
  },
  {
   "cell_type": "code",
   "execution_count": 1,
   "metadata": {},
   "outputs": [],
   "source": [
    "import numpy as np\n",
    "import pyamg\n",
    "import matplotlib.pyplot as plt\n",
    "import pandas as pd\n",
    "import sklearn\n",
    "from sklearn.linear_model import LinearRegression\n",
    "\n",
    "import scipy\n",
    "\n",
    "%matplotlib notebook"
   ]
  },
  {
   "cell_type": "code",
   "execution_count": 82,
   "metadata": {},
   "outputs": [],
   "source": [
    "grid_sizes = [ 5, 10,\n",
    "              15, 20, \n",
    "              25, 30, \n",
    "              35, 40, \n",
    "              45, 50,\n",
    "              55, 60,\n",
    "              65, 70,\n",
    "              75, 80,\n",
    "              85, 90,\n",
    "              95, 100] #20 total\n",
    "\n",
    "scales = [1e-7, 5e-7,\n",
    "          1e-6, 5e-6, \n",
    "          1e-5, 5e-5, \n",
    "          1e-4, 5e-4, \n",
    "          1e-3, 5e-3,]"
   ]
  },
  {
   "cell_type": "code",
   "execution_count": 83,
   "metadata": {},
   "outputs": [],
   "source": [
    "runs_per = 10\n",
    "\n",
    "def cg(A, b):\n",
    "    return pyamg.krylov.cg(A, b, tol=1e-8, maxiter=min(A.shape[0],1000))[0]\n",
    "\n",
    "def mg(A, b):\n",
    "    return pyamg.ruge_stuben_solver(A).solve(b, tol=1e-8)\n",
    "\n",
    "def sd(A, b):\n",
    "    return pyamg.krylov.steepest_descent(A, b, tol=1e-8)[0]\n",
    "\n",
    "def gmres(A, b):\n",
    "    return pyamg.krylov.gmres(A, b, tol=1e-8, maxiter=min(A.shape[0],1000))[0]\n",
    "\n",
    "methods = [(\"CG\",cg), (\"MG\",mg), (\"SD\", sd), (\"GMRES\", gmres)]"
   ]
  },
  {
   "cell_type": "code",
   "execution_count": null,
   "metadata": {},
   "outputs": [],
   "source": [
    "results_df = pd.DataFrame(columns=['Method','N','sigma','run',\n",
    "                                   'Error Norm','Residual Norm'])\n",
    "\n",
    "for grid_i in range(len(grid_sizes)):\n",
    "    temp_data = []\n",
    "    print(\"Grid: \", grid_i)\n",
    "    n = grid_sizes[grid_i]\n",
    "\n",
    "    A = pyamg.gallery.poisson((n,n), format='csr')\n",
    "    b = np.random.rand(A.shape[0])\n",
    "\n",
    "    x = {}\n",
    "    for (name, solver) in methods:\n",
    "        x[name] = solver(A, b)\n",
    "\n",
    "    for scale_i in range(len(scales)):\n",
    "        print(\"    Scale: \", scale_i)\n",
    "\n",
    "        for run_i in range(runs_per):\n",
    "            E = scipy.sparse.csr_matrix(np.random.normal(scale=scales[scale_i], size=(A.shape[0],A.shape[1]))).multiply(A!=0)\n",
    "            Ap = A + E\n",
    "            \n",
    "            for method_i in range(len(methods)):\n",
    "                name, solver = methods[method_i]\n",
    "                xp = solver(Ap, b)\n",
    "\n",
    "                temp_data.append({\n",
    "                    'Method':name,\n",
    "                    'N':A.shape[0],\n",
    "                    'sigma':scales[scale_i],\n",
    "                    'run':run_i,\n",
    "                    'Error Norm': np.linalg.norm(b - A@xp),\n",
    "                    'Residual Norm': np.linalg.norm(x[name] - xp)\n",
    "\n",
    "                })\n",
    "                \n",
    "    results_df = results_df.append(temp_data)"
   ]
  },
  {
   "cell_type": "code",
   "execution_count": 129,
   "metadata": {},
   "outputs": [],
   "source": [
    "results_df.to_csv('Poisson_Perturbed_A.csv')"
   ]
  },
  {
   "cell_type": "code",
   "execution_count": 123,
   "metadata": {},
   "outputs": [
    {
     "data": {
      "text/plain": [
       "0.9879871287976695"
      ]
     },
     "execution_count": 123,
     "metadata": {},
     "output_type": "execute_result"
    }
   ],
   "source": [
    "method = 'MG'\n",
    "\n",
    "features = [\n",
    "            'N',\n",
    "            'sigma',\n",
    "            #'A Condition Number',\n",
    "            #'Epsilon Norm (Fro)',\n",
    "            #'Epsilon Norm (Two)',\n",
    "           ]\n",
    "y = ['Residual Norm']\n",
    "\n",
    "MG_results = results_notna[(results_notna['Method'] == method)].loc[:, features + y]\n",
    "MG_results['N^2*sigma'] = MG_results['N']**2 * MG_results['sigma']\n",
    "features.append('N^2*sigma')\n",
    "\n",
    "MG_results[y] = np.log(MG_results[y])\n",
    "\n",
    "for feature in features:\n",
    "    MG_results['log({})'.format(feature)] = np.log(MG_results[feature].astype(float))\n",
    "#    MG_results['square({})'.format(feature)] = (MG_results[feature].astype(float))**2\n",
    "\n",
    " \n",
    "features_to_fit = list(filter(lambda x: 'N^2' in x and 'log' in x, MG_results.columns))\n",
    "\n",
    "reg = LinearRegression(normalize=True).fit(MG_results[features_to_fit], MG_results[y])\n",
    "reg.score(MG_results[features_to_fit], MG_results[y])"
   ]
  },
  {
   "cell_type": "code",
   "execution_count": 132,
   "metadata": {},
   "outputs": [
    {
     "name": "stdout",
     "output_type": "stream",
     "text": [
      "[[4.59448121]] 0.09527523247626128\n"
     ]
    },
    {
     "name": "stderr",
     "output_type": "stream",
     "text": [
      "/usr/local/lib/python3.9/site-packages/pyamg/classical/classical.py:97: SparseEfficiencyWarning: Implicit conversion of A to CSR\n",
      "  warn(\"Implicit conversion of A to CSR\",\n"
     ]
    }
   ],
   "source": [
    "A = scipy.io.loadmat('BCSSTK18.mat')['A18']\n",
    "E = scipy.sparse.csr_matrix(np.random.normal(scale=scales[scale_i], size=(A.shape[0],A.shape[1]))).multiply(A!=0)\n",
    "Ap = A + E\n",
    "b = np.random.rand(A.shape[0])\n",
    "\n",
    "N = A.shape[0]\n",
    "sigma = 2e-4\n",
    "N2sigma = N*N*sigma\n",
    "\n",
    "mg_sol = mg(A, b)\n",
    "mg_solp = mg(Ap, b)\n",
    "\n",
    "print(reg.predict([[np.log(N2sigma)]]), np.linalg.norm(mg_sol - mg_solp))"
   ]
  },
  {
   "cell_type": "markdown",
   "metadata": {},
   "source": [
    "# 2D Poisson - Perturbed b"
   ]
  },
  {
   "cell_type": "code",
   "execution_count": null,
   "metadata": {},
   "outputs": [],
   "source": [
    "results_df2 = pd.DataFrame(columns=['Method','N','sigma','run',\n",
    "                                    'norm(eps)','norm(y-x-eps)','norm(y-x)'])\n",
    "\n",
    "for grid_i in range(len(grid_sizes)):\n",
    "    temp_data = []\n",
    "    print(\"Grid: \", grid_i)\n",
    "    n = grid_sizes[grid_i]\n",
    "\n",
    "    A = pyamg.gallery.poisson((n,n), format='csr')\n",
    "    b = np.random.rand(A.shape[0])\n",
    "\n",
    "    x = {}\n",
    "    for (name, solver) in methods:\n",
    "        x[name] = solver(A, b)\n",
    "\n",
    "    for scale_i in range(len(scales)):\n",
    "        print(\"    Scale: \", scale_i)\n",
    "\n",
    "        for run_i in range(runs_per):\n",
    "            E = np.random.normal(scale=scales[scale_i], size=(b.shape))\n",
    "            bp = b + A @ E\n",
    "            \n",
    "            for method_i in range(len(methods)):\n",
    "                name, solver = methods[method_i]\n",
    "                xp = solver(A, bp)\n",
    "\n",
    "                temp_data.append({\n",
    "                    'Method':name,\n",
    "                    'N':A.shape[0],\n",
    "                    'sigma':scales[scale_i],\n",
    "                    'run':run_i,\n",
    "                    'Error Norm': np.linalg.norm(b - A@xp),\n",
    "                    'Residual Norm': np.linalg.norm(x[name] - xp)\n",
    "\n",
    "                })\n",
    "                \n",
    "    results_df = results_df.append(temp_data)"
   ]
  }
 ],
 "metadata": {
  "kernelspec": {
   "display_name": "Python 3",
   "language": "python",
   "name": "python3"
  },
  "language_info": {
   "codemirror_mode": {
    "name": "ipython",
    "version": 3
   },
   "file_extension": ".py",
   "mimetype": "text/x-python",
   "name": "python",
   "nbconvert_exporter": "python",
   "pygments_lexer": "ipython3",
   "version": "3.9.1"
  }
 },
 "nbformat": 4,
 "nbformat_minor": 4
}
