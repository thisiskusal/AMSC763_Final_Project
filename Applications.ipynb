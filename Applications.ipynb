{
 "cells": [
  {
   "cell_type": "code",
   "execution_count": 5,
   "id": "68035007",
   "metadata": {},
   "outputs": [],
   "source": [
    "import numpy as np\n",
    "import pyamg\n",
    "import matplotlib.pyplot as plt\n",
    "import sklearn\n",
    "from sklearn.linear_model import LinearRegression\n",
    "import os\n",
    "\n",
    "import scipy\n",
    "\n",
    "%matplotlib notebook"
   ]
  },
  {
   "cell_type": "code",
   "execution_count": 13,
   "id": "095cfc99",
   "metadata": {},
   "outputs": [],
   "source": [
    "files = [f for f in os.listdir('.') if os.path.isfile(f) and '.mat' in f]\n",
    "\n",
    "for f in files:\n",
    "    mat_data = scipy.io.loadmat(f)\n",
    "    matrix = mat_data[list(mat_data.keys())[-1]]\n",
    "    \n",
    "    "
   ]
  },
  {
   "cell_type": "code",
   "execution_count": 100,
   "id": "0e56ace7",
   "metadata": {},
   "outputs": [],
   "source": [
    "A = scipy.io.loadmat('BCSSTK16.mat')['A16']\n",
    "E = np.ma.filled(np.ma.masked_array(np.random.normal(scale=1e-1, size=(A.shape[0],A.shape[1])), \n",
    "                                                mask=1 - 1 * (A != 0).todense()), fill_value=0)\n",
    "Ap = A + E"
   ]
  },
  {
   "cell_type": "code",
   "execution_count": 88,
   "id": "c2b7c584",
   "metadata": {},
   "outputs": [],
   "source": [
    "b = np.random.rand(A.shape[0])"
   ]
  },
  {
   "cell_type": "code",
   "execution_count": 61,
   "id": "8d9f844f",
   "metadata": {},
   "outputs": [],
   "source": [
    "def cg(A, b):\n",
    "    return pyamg.krylov.cg(A, b, tol=1e-10, maxiter=1000)[0]\n",
    "\n",
    "def mg(A, b):\n",
    "    return pyamg.ruge_stuben_solver(A).solve(b, tol=1e-10)\n",
    "\n",
    "def sd(A, b):\n",
    "    return pyamg.krylov.steepest_descent(A, b, tol=1e-10)[0]\n",
    "\n",
    "def gmres(A, b):\n",
    "    return pyamg.krylov.gmres(A, b, tol=1e-10, maxiter=1000)[0]\n"
   ]
  },
  {
   "cell_type": "code",
   "execution_count": 97,
   "id": "bac7b00f",
   "metadata": {},
   "outputs": [],
   "source": [
    "#mg_sol = mg(A, b)\n",
    "#sd_sol = sd(A, b)\n",
    "gm_sol = gmres(A, b)\n",
    "#cg_sol = cg(A,b)\n",
    "\n",
    "#mg_sol2 = mg(Ap, b)\n",
    "#sd_sol2 = sd(Ap, b)\n",
    "gm_sol2 = gmres(Ap, b)\n",
    "#cg_sol2 = cg(Ap,b)\n",
    "\n",
    "#sol_sol = np.linalg.solve(scipy.sparse.csr_matrix.toarray(A),b)"
   ]
  },
  {
   "cell_type": "code",
   "execution_count": 81,
   "id": "3e5fa368",
   "metadata": {},
   "outputs": [
    {
     "data": {
      "text/plain": [
       "3.559865133657781e-17"
      ]
     },
     "execution_count": 81,
     "metadata": {},
     "output_type": "execute_result"
    }
   ],
   "source": [
    "np.linalg.norm(cg_sol2 - cg_sol)/np.linalg.norm(cg_sol - sol_sol)"
   ]
  },
  {
   "cell_type": "code",
   "execution_count": 93,
   "id": "877af92e",
   "metadata": {},
   "outputs": [
    {
     "data": {
      "text/plain": [
       "0.00485559487485187"
      ]
     },
     "execution_count": 93,
     "metadata": {},
     "output_type": "execute_result"
    }
   ],
   "source": [
    "np.linalg.norm(mg_sol2 - mg_sol) #1e-3"
   ]
  },
  {
   "cell_type": "code",
   "execution_count": 90,
   "id": "1b277ae1",
   "metadata": {},
   "outputs": [
    {
     "data": {
      "text/plain": [
       "6.690607863153364e-05"
      ]
     },
     "execution_count": 90,
     "metadata": {},
     "output_type": "execute_result"
    }
   ],
   "source": [
    "np.linalg.norm(mg_sol2 - mg_sol) #1e-5"
   ]
  },
  {
   "cell_type": "code",
   "execution_count": 82,
   "id": "6dd48f19",
   "metadata": {},
   "outputs": [
    {
     "data": {
      "text/plain": [
       "2.0751352591082159e-16"
      ]
     },
     "execution_count": 82,
     "metadata": {},
     "output_type": "execute_result"
    }
   ],
   "source": [
    "np.linalg.norm(sd_sol2 - sd_sol)/np.linalg.norm(sd_sol - sol_sol)"
   ]
  },
  {
   "cell_type": "code",
   "execution_count": 95,
   "id": "91077e87",
   "metadata": {},
   "outputs": [
    {
     "data": {
      "text/plain": [
       "0.004854241164058914"
      ]
     },
     "execution_count": 95,
     "metadata": {},
     "output_type": "execute_result"
    }
   ],
   "source": [
    "np.linalg.norm(gm_sol2 - gm_sol) #1e-3"
   ]
  },
  {
   "cell_type": "code",
   "execution_count": 98,
   "id": "2166a071",
   "metadata": {},
   "outputs": [
    {
     "data": {
      "text/plain": [
       "0.530684443062038"
      ]
     },
     "execution_count": 98,
     "metadata": {},
     "output_type": "execute_result"
    }
   ],
   "source": [
    "np.linalg.norm(gm_sol2 - gm_sol) #1e-1"
   ]
  },
  {
   "cell_type": "code",
   "execution_count": null,
   "id": "f2c33e78",
   "metadata": {},
   "outputs": [],
   "source": []
  }
 ],
 "metadata": {
  "kernelspec": {
   "display_name": "Python 3",
   "language": "python",
   "name": "python3"
  },
  "language_info": {
   "codemirror_mode": {
    "name": "ipython",
    "version": 3
   },
   "file_extension": ".py",
   "mimetype": "text/x-python",
   "name": "python",
   "nbconvert_exporter": "python",
   "pygments_lexer": "ipython3",
   "version": "3.9.1"
  }
 },
 "nbformat": 4,
 "nbformat_minor": 5
}
